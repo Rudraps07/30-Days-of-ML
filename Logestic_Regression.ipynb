{
  "nbformat": 4,
  "nbformat_minor": 0,
  "metadata": {
    "colab": {
      "provenance": [],
      "authorship_tag": "ABX9TyMhFQDrmH/po2Zo7FAFeOzn",
      "include_colab_link": true
    },
    "kernelspec": {
      "name": "python3",
      "display_name": "Python 3"
    },
    "language_info": {
      "name": "python"
    }
  },
  "cells": [
    {
      "cell_type": "markdown",
      "metadata": {
        "id": "view-in-github",
        "colab_type": "text"
      },
      "source": [
        "<a href=\"https://colab.research.google.com/github/Rudraps07/30-Days-of-ML/blob/main/Logestic_Regression.ipynb\" target=\"_parent\"><img src=\"https://colab.research.google.com/assets/colab-badge.svg\" alt=\"Open In Colab\"/></a>"
      ]
    },
    {
      "cell_type": "markdown",
      "source": [
        "#Logistic Regression Example"
      ],
      "metadata": {
        "id": "Df7KEYAQOVQn"
      }
    },
    {
      "cell_type": "code",
      "execution_count": 3,
      "metadata": {
        "id": "MCxvUjOEOUIK"
      },
      "outputs": [],
      "source": [
        "##import the libraries\n",
        "from sklearn import datasets\n",
        "from sklearn.linear_model import LogisticRegression\n",
        "from sklearn.preprocessing import StandardScaler"
      ]
    },
    {
      "cell_type": "code",
      "source": [
        "iris=datasets.load_iris()\n",
        "x=iris.data\n",
        "y=iris.target"
      ],
      "metadata": {
        "id": "SmQMETGqPEMQ"
      },
      "execution_count": 7,
      "outputs": []
    },
    {
      "cell_type": "code",
      "source": [
        "scalar=StandardScaler()\n",
        "x_std=scalar.fit_transform(x)"
      ],
      "metadata": {
        "id": "E9u4KQMXPuui"
      },
      "execution_count": 8,
      "outputs": []
    },
    {
      "cell_type": "markdown",
      "source": [
        "##Creat the Model"
      ],
      "metadata": {
        "id": "l3twInT7P-Ad"
      }
    },
    {
      "cell_type": "code",
      "source": [
        "clf=LogisticRegression(random_state=0,multi_class='ovr')"
      ],
      "metadata": {
        "id": "mv5zDV5AP555"
      },
      "execution_count": 9,
      "outputs": []
    },
    {
      "cell_type": "markdown",
      "source": [
        "##Train the Model"
      ],
      "metadata": {
        "id": "4OssL8ofQRea"
      }
    },
    {
      "cell_type": "code",
      "source": [
        "model=clf.fit(x_std,y)"
      ],
      "metadata": {
        "id": "g15ixot3QTgo"
      },
      "execution_count": 11,
      "outputs": []
    },
    {
      "cell_type": "code",
      "source": [
        "new_observation=[[.5,.5,.5,.5]]"
      ],
      "metadata": {
        "id": "lEEvsfjHQeuH"
      },
      "execution_count": 12,
      "outputs": []
    },
    {
      "cell_type": "code",
      "source": [
        "model.predict(new_observation)"
      ],
      "metadata": {
        "colab": {
          "base_uri": "https://localhost:8080/"
        },
        "id": "UDHq6vC8Qobf",
        "outputId": "ec4a0b49-c2cd-4343-8ad0-ae0a1cd75c5f"
      },
      "execution_count": 13,
      "outputs": [
        {
          "output_type": "execute_result",
          "data": {
            "text/plain": [
              "array([2])"
            ]
          },
          "metadata": {},
          "execution_count": 13
        }
      ]
    },
    {
      "cell_type": "code",
      "source": [
        "model.predict_proba(new_observation)"
      ],
      "metadata": {
        "colab": {
          "base_uri": "https://localhost:8080/"
        },
        "id": "J0nzb0gOQzzl",
        "outputId": "0c6f5b42-b492-45e3-b29c-597349825690"
      },
      "execution_count": 15,
      "outputs": [
        {
          "output_type": "execute_result",
          "data": {
            "text/plain": [
              "array([[0.0387617 , 0.40669108, 0.55454723]])"
            ]
          },
          "metadata": {},
          "execution_count": 15
        }
      ]
    }
  ]
}